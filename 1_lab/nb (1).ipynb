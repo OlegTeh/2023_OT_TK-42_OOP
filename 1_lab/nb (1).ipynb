{
  "metadata": {
    "language_info": {
      "codemirror_mode": {
        "name": "python",
        "version": 3
      },
      "file_extension": ".py",
      "mimetype": "text/x-python",
      "name": "python",
      "nbconvert_exporter": "python",
      "pygments_lexer": "ipython3",
      "version": "3.8"
    },
    "kernelspec": {
      "name": "python",
      "display_name": "Python (Pyodide)",
      "language": "python"
    }
  },
  "nbformat_minor": 4,
  "nbformat": 4,
  "cells": [
    {
      "cell_type": "markdown",
      "source": "# Моя перша програма та як вона робить:",
      "metadata": {}
    },
    {
      "cell_type": "markdown",
      "source": "- Імпорт функції datetime з бібліотеки datatime",
      "metadata": {}
    },
    {
      "cell_type": "code",
      "source": "from datetime import datetime",
      "metadata": {
        "trusted": true
      },
      "execution_count": 1,
      "outputs": []
    },
    {
      "cell_type": "markdown",
      "source": "- Додаю зміні з моїми даними",
      "metadata": {}
    },
    {
      "cell_type": "code",
      "source": "name = \"Олег\"\nlocation = \"Київ\"",
      "metadata": {
        "trusted": true
      },
      "execution_count": 2,
      "outputs": []
    },
    {
      "cell_type": "markdown",
      "source": "- Виводжу текст командою print",
      "metadata": {}
    },
    {
      "cell_type": "code",
      "source": "print(f\"{name} start programming at {datetime.now()}. {location} is the best city!\")",
      "metadata": {
        "trusted": true
      },
      "execution_count": 3,
      "outputs": [
        {
          "name": "stdout",
          "text": "Олег start programming at 2023-10-12 20:58:59.026000. Київ is the best city!\n",
          "output_type": "stream"
        }
      ]
    },
    {
      "cell_type": "markdown",
      "source": "# Програма яку виконав штучний інтелект ChatGPT\n\nЗвісно! \"Hello, World!\" - це традиційний перший приклад програми для початківців у багатьох мовах програмування, включаючи Python. В цій програмі виводиться текст \"Hello, World!\" на екрані. Ось приклад програми на Python:",
      "metadata": {}
    },
    {
      "cell_type": "code",
      "source": "",
      "metadata": {},
      "execution_count": null,
      "outputs": []
    }
  ]
}