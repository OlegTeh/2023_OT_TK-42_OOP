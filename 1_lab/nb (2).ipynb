{
  "metadata": {
    "language_info": {
      "codemirror_mode": {
        "name": "python",
        "version": 3
      },
      "file_extension": ".py",
      "mimetype": "text/x-python",
      "name": "python",
      "nbconvert_exporter": "python",
      "pygments_lexer": "ipython3",
      "version": "3.8"
    },
    "kernelspec": {
      "name": "python",
      "display_name": "Python (Pyodide)",
      "language": "python"
    }
  },
  "nbformat_minor": 4,
  "nbformat": 4,
  "cells": [
    {
      "cell_type": "markdown",
      "source": "# Моя перша програма та як вона робить:",
      "metadata": {}
    },
    {
      "cell_type": "markdown",
      "source": "- Імпорт функції datetime з бібліотеки datatime",
      "metadata": {}
    },
    {
      "cell_type": "code",
      "source": "from datetime import datetime",
      "metadata": {
        "trusted": true
      },
      "execution_count": 1,
      "outputs": []
    },
    {
      "cell_type": "markdown",
      "source": "- Додаю зміні з моїми даними",
      "metadata": {}
    },
    {
      "cell_type": "code",
      "source": "name = \"Олег\"\nlocation = \"Київ\"",
      "metadata": {
        "trusted": true
      },
      "execution_count": 2,
      "outputs": []
    },
    {
      "cell_type": "markdown",
      "source": "- Виводжу текст командою print",
      "metadata": {}
    },
    {
      "cell_type": "code",
      "source": "print(f\"{name} start programming at {datetime.now()}. {location} is the best city!\")",
      "metadata": {
        "trusted": true
      },
      "execution_count": 3,
      "outputs": [
        {
          "name": "stdout",
          "text": "Олег start programming at 2023-10-12 21:02:16.677000. Київ is the best city!\n",
          "output_type": "stream"
        }
      ]
    },
    {
      "cell_type": "markdown",
      "source": "# Програма яку виконав штучний інтелект ChatGPT\n\nЗвісно! \"Hello, World!\" - це традиційний перший приклад програми для початківців у багатьох мовах програмування, включаючи Python. В цій програмі виводиться текст \"Hello, World!\" на екрані. Ось приклад програми на Python:",
      "metadata": {}
    },
    {
      "cell_type": "code",
      "source": "print(\"Hello, World!\")",
      "metadata": {
        "trusted": true
      },
      "execution_count": 4,
      "outputs": [
        {
          "name": "stdout",
          "text": "Hello, World!\n",
          "output_type": "stream"
        }
      ]
    },
    {
      "cell_type": "markdown",
      "source": "Тепер розглянемо цю програму по кроках:\n\nprint - це вбудована функція Python, яка виводить переданий їй текст або інші дані на екран. В цьому випадку, ми передаємо їй рядок \"Hello, World!\".\n\n\"Hello, World!\" - це текст, який буде виведений на екрані. Ми вказали його в подвійних лапках, щоб Python розпізнав його як рядок.\n\nОстанній рядок програми закінчується символом нового рядка, який автоматично додається функцією print, щоб перейти до наступного рядка виводу.\n\nПісля створення цієї програми ви можете запустити її, і на екрані з'явиться \"Hello, World!\", що вказує на успішне виконання програми.",
      "metadata": {}
    }
  ]
}