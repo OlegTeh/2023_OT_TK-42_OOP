{
  "metadata": {
    "language_info": {
      "codemirror_mode": {
        "name": "python",
        "version": 3
      },
      "file_extension": ".py",
      "mimetype": "text/x-python",
      "name": "python",
      "nbconvert_exporter": "python",
      "pygments_lexer": "ipython3",
      "version": "3.8"
    },
    "kernelspec": {
      "name": "python",
      "display_name": "Python (Pyodide)",
      "language": "python"
    }
  },
  "nbformat_minor": 4,
  "nbformat": 4,
  "cells": [
    {
      "cell_type": "markdown",
      "source": "### Основи програмування в Python",
      "metadata": {}
    },
    {
      "cell_type": "markdown",
      "source": "- Познайомтесь з основними типами даних. Попракитикуйтесь з простими змінними, списками list, наборами set та словниками dict:",
      "metadata": {
        "tags": []
      }
    },
    {
      "cell_type": "code",
      "source": "number = 10\nfloat_number = 3.14\ntext = \"Привіт, світ!\"\nis_true = True\nis_false = False\n\nmy_list = [1, 2, 3, 4, 5]\nmy_list.append(6)\nprint(my_list[2])\nmy_list[0] = 10\nprint(my_list)\n\nmy_set = {1, 2, 3, 4, 5}\nmy_set.add(6)\nprint(3 in my_set)\nmy_set.remove(2)\nprint(my_set)\n\nmy_dict = {'один': 1, 'два': 2, 'три': 3}\nmy_dict['чотири'] = 4\nprint(my_dict['два'])\nmy_dict['один'] = 10\nprint(my_dict)",
      "metadata": {
        "trusted": true
      },
      "execution_count": 1,
      "outputs": [
        {
          "name": "stdout",
          "text": "3\n[10, 2, 3, 4, 5, 6]\nTrue\n{1, 3, 4, 5, 6}\n2\n{'один': 10, 'два': 2, 'три': 3, 'чотири': 4}\n",
          "output_type": "stream"
        }
      ]
    },
    {
      "cell_type": "markdown",
      "source": "-  Виведіть вбудовані константи, (2-3 на вибір)",
      "metadata": {}
    },
    {
      "cell_type": "code",
      "source": "PI = 3.14159\nTRUE = True\nprint(PI)   \nprint(TRUE)  \n\nGRAVITY = 9.81\nPI = 3.14\nprint(\"Гравітаційне прискорення: {} м/с²\".format(GRAVITY))\nprint(\"Число Пі: {}\".format(PI))",
      "metadata": {
        "trusted": true
      },
      "execution_count": 2,
      "outputs": [
        {
          "name": "stdout",
          "text": "3.14159\nTrue\nГравітаційне прискорення: 9.81 м/с²\nЧисло Пі: 3.14\n",
          "output_type": "stream"
        }
      ]
    },
    {
      "cell_type": "markdown",
      "source": "- Виведіть результат роботи вбудованих функцій (2-3 на вибір)",
      "metadata": {}
    },
    {
      "cell_type": "code",
      "source": "text = \"Привіт, світ!\"\nlength = len(text)\nprint(\"Довжина рядка:\", length)\n\nnumbers = [5, 8, 3, 12, 6]\nmax_number = max(numbers)\nprint(\"Найбільше число у списку:\", max_number)",
      "metadata": {},
      "execution_count": null,
      "outputs": []
    },
    {
      "cell_type": "markdown",
      "source": "- Познайомтесь з циклами. Напишіть будь-який код який демонструє роботу циклів, (2-3 на вибір)",
      "metadata": {}
    },
    {
      "cell_type": "code",
      "source": "numbers = [1, 2, 3, 4, 5]\nprint(\"Цикл for для виведення кожного числа зі списку:\")\nfor number in numbers:\n    print(number)\n    \ncount = 0\nprint(\"Цикл while для підрахунку до 5:\")\nwhile count < 5:\n    print(count)\n    count += 1",
      "metadata": {
        "trusted": true
      },
      "execution_count": 3,
      "outputs": [
        {
          "name": "stdout",
          "text": "Цикл for для виведення кожного числа зі списку:\n1\n2\n3\n4\n5\nЦикл while для підрахунку до 5:\n0\n1\n2\n3\n4\n",
          "output_type": "stream"
        }
      ]
    },
    {
      "cell_type": "markdown",
      "source": "- Познайомтесь з розгалуженнями. Напишіть будь-який код який демонструє роботу розгалужень, (2-3 на вибір)",
      "metadata": {}
    },
    {
      "cell_type": "code",
      "source": "number = 7\nif number % 2 == 0:\n    print(\"Число\", number, \"є парним.\")\nelse:\n    print(\"Число\", number, \"є непарним.\")\n    \n\nmark = 75\nif mark >= 90:\n    print(\"Відмінно!\")\nelif mark >= 70:\n    print(\"Добре!\")\nelif mark >= 50:\n    print(\"Задовільно.\")\nelse:\n    print(\"Не склав.\")",
      "metadata": {
        "trusted": true
      },
      "execution_count": 4,
      "outputs": [
        {
          "name": "stdout",
          "text": "Число 7 є непарним.\nДобре!\n",
          "output_type": "stream"
        }
      ]
    },
    {
      "cell_type": "markdown",
      "source": "- Конструкція try->except->finally. У мові Python код не компілюється, а виконується відразу. Можливі помилки нам треба виловлювати самим. Напишіть свій варіант коду з помилкою.",
      "metadata": {}
    },
    {
      "cell_type": "code",
      "source": "try:\n    dividend = 10\n    divisor = 0\n    result = dividend / divisor\n    print(\"Результат ділення:\", result)\nexcept ZeroDivisionError as error:\n    print(\"Помилка ділення на нуль:\", error)\nfinally:\n    print(\"Цей блок завжди виконується, навіть якщо виникає помилка.\")",
      "metadata": {
        "trusted": true
      },
      "execution_count": 5,
      "outputs": [
        {
          "name": "stdout",
          "text": "Помилка ділення на нуль: division by zero\nЦей блок завжди виконується, навіть якщо виникає помилка.\n",
          "output_type": "stream"
        }
      ]
    },
    {
      "cell_type": "markdown",
      "source": "- Контекст-менеджер with.Напишіть свій код з контекст-менеджером",
      "metadata": {}
    },
    {
      "cell_type": "code",
      "source": "with open(\"myfile.txt\", \"w\") as file:\n    file.write(\"Цей текст буде записан у файл\")\n\nwith open(\"myfile.txt\", \"r\") as file:\n    content = file.read()\n    print(\"Зміст файлу:\")\n    print(content)\n",
      "metadata": {
        "trusted": true
      },
      "execution_count": 6,
      "outputs": [
        {
          "name": "stdout",
          "text": "Зміст файлу:\nЦей текст буде записан у файл\n",
          "output_type": "stream"
        }
      ]
    },
    {
      "cell_type": "markdown",
      "source": "- Познайомтесь з Python lambdas. Напишіть свій приклад коду та як Ви розумієте Лямбди",
      "metadata": {}
    },
    {
      "cell_type": "code",
      "source": "celsius = [22, 25, 29, 32]\nfahrenheit = list(map(lambda x: (x * 9/5) + 32, celsius))\nprint(\"Температура у Фаренгейтах:\", fahrenheit)",
      "metadata": {
        "trusted": true
      },
      "execution_count": 7,
      "outputs": [
        {
          "name": "stdout",
          "text": "Температура у Фаренгейтах: [71.6, 77.0, 84.2, 89.6]\n",
          "output_type": "stream"
        }
      ]
    },
    {
      "cell_type": "markdown",
      "source": "### Основи програмування Python виконаний ChatGPT",
      "metadata": {}
    },
    {
      "cell_type": "code",
      "source": "# Оголошення змінної та присвоєння значення\nx = 5\n\n# Виведення значення змінної на екран\nprint(\"Змінна x має значення:\", x)\n\n# Умовний оператор if-else\nif x > 0:\n    print(\"x - додатнє число\")\nelse:\n    print(\"x - від'ємне чи нуль\")\n\n# Цикл for для перебору списку\nnumbers = [1, 2, 3, 4, 5]\nfor number in numbers:\n    print(number)\n\n# Функція для обчислення квадрату числа\ndef square(num):\n    return num ** 2\n\n# Виклик функції та виведення результату\nresult = square(3)\nprint(\"Квадрат числа 3:\", result)\n",
      "metadata": {},
      "execution_count": null,
      "outputs": []
    }
  ]
}