{
  "metadata": {
    "language_info": {
      "codemirror_mode": {
        "name": "python",
        "version": 3
      },
      "file_extension": ".py",
      "mimetype": "text/x-python",
      "name": "python",
      "nbconvert_exporter": "python",
      "pygments_lexer": "ipython3",
      "version": "3.8"
    },
    "kernelspec": {
      "name": "python",
      "display_name": "Python (Pyodide)",
      "language": "python"
    }
  },
  "nbformat_minor": 4,
  "nbformat": 4,
  "cells": [
    {
      "cell_type": "markdown",
      "source": "### Перша програма на ООП",
      "metadata": {}
    },
    {
      "cell_type": "code",
      "source": "\nclass MyName:\n    \"\"\"Опис класу / Документація\n    \"\"\"\n    total_names = 0 #Class Variable\n\n    def __init__(self, name=None) -> None:\n        self.name = name if name is not None else self.anonymous_user().name #Class attributes / Instance variables\n        MyName.total_names += 1 #modify class variable\n        self.my_id = self.total_names\n\n    @property\n    def whoami(self): \n        \"\"\"Class property\n        return: повертаємо імя \n        \"\"\"\n        return f\"My name is {self.name}\"\n    \n    @property\n    def my_email(self) -> str:\n        \"\"\"Class property\n        return: повертаємо емейл\n        \"\"\"\n        return self.create_email()\n    \n    def create_email(self) -> str:\n        \"\"\"Instance method\n        \"\"\"\n        return f\"{self.name}@itcollege.lviv.ua\"\n\n    @classmethod\n    def anonymous_user(cls):\n        \"\"\"Classs method\n        \"\"\"\n        return cls(\"Anonymous\")\n    \n    @staticmethod\n    def say_hello(message=\"Привіт\"):\n        \"\"\"Static method\n        \"\"\"\n        return f\"You say: {message}\"\n    \n    def letters_numbers(self):\n        if self.name:\n            return len([char for char in self.name if char.isalpha()])\n        else:\n            return 0\n\n\nprint(\"Let's Start!\")\n\nnames = (\"Bohdan\", \"Marta\",\"Oleg\", None)\nall_names = {name: MyName(name) for name in names}\n\nfor name, me in all_names.items():\n    print(f\"\"\"{\">*<\"*20}\nThis is object: {me} \nThis is object attribute: {me.name} / {me.my_id}\nThis is {type(MyName.whoami)}: {me.whoami} / {me.my_email}\nThis is {type(me.create_email)} call: {me.create_email()}\nThis is static {type(MyName.say_hello)} with defaults: {me.say_hello()} \nThis is class variable {type(MyName.total_names)}: from class {MyName.total_names} / from object {me.total_names}\nБукв в імені: {me.letters_numbers()}\n{\"<*>\"*20}\"\"\")\n\nprint(f\"We are done. We create {me.total_names} names! ??? Why {MyName.total_names}?\")\n",
      "metadata": {
        "trusted": true
      },
      "execution_count": 1,
      "outputs": [
        {
          "name": "stdout",
          "text": "Let's Start!\n>*<>*<>*<>*<>*<>*<>*<>*<>*<>*<>*<>*<>*<>*<>*<>*<>*<>*<>*<>*<\nThis is object: <__main__.MyName object at 0x151c2a8> \nThis is object attribute: Bohdan / 1\nThis is <class 'property'>: My name is Bohdan / Bohdan@itcollege.lviv.ua\nThis is <class 'method'> call: Bohdan@itcollege.lviv.ua\nThis is static <class 'function'> with defaults: You say: Привіт \nThis is class variable <class 'int'>: from class 5 / from object 5\nБукв в імені: 6\n<*><*><*><*><*><*><*><*><*><*><*><*><*><*><*><*><*><*><*><*>\n>*<>*<>*<>*<>*<>*<>*<>*<>*<>*<>*<>*<>*<>*<>*<>*<>*<>*<>*<>*<\nThis is object: <__main__.MyName object at 0x1fb0438> \nThis is object attribute: Marta / 2\nThis is <class 'property'>: My name is Marta / Marta@itcollege.lviv.ua\nThis is <class 'method'> call: Marta@itcollege.lviv.ua\nThis is static <class 'function'> with defaults: You say: Привіт \nThis is class variable <class 'int'>: from class 5 / from object 5\nБукв в імені: 5\n<*><*><*><*><*><*><*><*><*><*><*><*><*><*><*><*><*><*><*><*>\n>*<>*<>*<>*<>*<>*<>*<>*<>*<>*<>*<>*<>*<>*<>*<>*<>*<>*<>*<>*<\nThis is object: <__main__.MyName object at 0x268c3c0> \nThis is object attribute: Oleg / 3\nThis is <class 'property'>: My name is Oleg / Oleg@itcollege.lviv.ua\nThis is <class 'method'> call: Oleg@itcollege.lviv.ua\nThis is static <class 'function'> with defaults: You say: Привіт \nThis is class variable <class 'int'>: from class 5 / from object 5\nБукв в імені: 4\n<*><*><*><*><*><*><*><*><*><*><*><*><*><*><*><*><*><*><*><*>\n>*<>*<>*<>*<>*<>*<>*<>*<>*<>*<>*<>*<>*<>*<>*<>*<>*<>*<>*<>*<\nThis is object: <__main__.MyName object at 0x268c618> \nThis is object attribute: Anonymous / 5\nThis is <class 'property'>: My name is Anonymous / Anonymous@itcollege.lviv.ua\nThis is <class 'method'> call: Anonymous@itcollege.lviv.ua\nThis is static <class 'function'> with defaults: You say: Привіт \nThis is class variable <class 'int'>: from class 5 / from object 5\nБукв в імені: 9\n<*><*><*><*><*><*><*><*><*><*><*><*><*><*><*><*><*><*><*><*>\nWe are done. We create 5 names! ??? Why 5?\n",
          "output_type": "stream"
        }
      ]
    },
    {
      "cell_type": "markdown",
      "source": "## Модифікуйте програму додавши своє імя в список",
      "metadata": {}
    },
    {
      "cell_type": "code",
      "source": "names = (\"Bohdan\", \"Marta\",\"Oleg\", None) # Додав своє ім'я",
      "metadata": {},
      "execution_count": null,
      "outputs": []
    },
    {
      "cell_type": "markdown",
      "source": "## Як змінити текст привітання при виклику методу say_hello()? Допишіть цю частину коду.",
      "metadata": {}
    },
    {
      "cell_type": "code",
      "source": "@staticmethod\n    def say_hello(message=\"Привіт\"): # змінив текст привітання\n        \"\"\"Static method\n        \"\"\"\n        return f\"You say: {message}\"",
      "metadata": {},
      "execution_count": null,
      "outputs": []
    },
    {
      "cell_type": "markdown",
      "source": "## Допишіть функцію в класі яка порахує кількість букв і імені (підказка: використайте функцію len());",
      "metadata": {}
    },
    {
      "cell_type": "code",
      "source": " def letters_numbers(self):\n        if self.name:\n            return len([char for char in self.name if char.isalpha()])\n        else:\n            return 0\n        \nБукв в імені: {me.letters_numbers()}",
      "metadata": {},
      "execution_count": null,
      "outputs": []
    }
  ]
}