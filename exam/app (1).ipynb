{
  "metadata": {
    "kernelspec": {
      "name": "python",
      "display_name": "Python (Pyodide)",
      "language": "python"
    },
    "language_info": {
      "codemirror_mode": {
        "name": "python",
        "version": 3
      },
      "file_extension": ".py",
      "mimetype": "text/x-python",
      "name": "python",
      "nbconvert_exporter": "python",
      "pygments_lexer": "ipython3",
      "version": "3.8"
    }
  },
  "nbformat_minor": 4,
  "nbformat": 4,
  "cells": [
    {
      "cell_type": "markdown",
      "source": "### Основи роботи з Python",
      "metadata": {}
    },
    {
      "cell_type": "markdown",
      "source": "#### Основні типи даних",
      "metadata": {}
    },
    {
      "cell_type": "code",
      "source": "# Рядок (string)\ntext_variable = \"Привіт, світ!\"\n\n# Ціле число (integer)\nnumber_variable = 42\n\n# Список (list)\nlist_variable = [\"яблуко\", \"груша\", \"апельсин\"]\n\n# Словник (dictionary)\ndict_variable = {\"один\": 1, \"два\": 2, \"три\": 3}\n\n# Кортеж (tuple)\ntuple_variable = (10, 20, 30)\n\n# Множина (set)\nset_variable = {1, 2, 3}\n",
      "metadata": {
        "trusted": true
      },
      "outputs": [],
      "execution_count": null
    },
    {
      "cell_type": "markdown",
      "source": "#### Вбудовані константи",
      "metadata": {}
    },
    {
      "cell_type": "code",
      "source": "# True та False - булеві константи\nprint(\"Перша константа:\", True)\nprint(\"Друга константа:\", False)\n",
      "metadata": {
        "trusted": true
      },
      "outputs": [
        {
          "name": "stdout",
          "text": "Перша константа: True\nДруга константа: False\n",
          "output_type": "stream"
        }
      ],
      "execution_count": 1
    },
    {
      "cell_type": "markdown",
      "source": "#### Вбудовані функції",
      "metadata": {}
    },
    {
      "cell_type": "code",
      "source": "# abs - функція для отримання абсолютного значення\nprint(\"Абсолютне значення -12.5 є рівним\", abs(-12.5))\nprint(\"Абсолютне значення 12.5 є рівним\", abs(12.5))\n",
      "metadata": {
        "trusted": true
      },
      "outputs": [
        {
          "name": "stdout",
          "text": "Абсолютне значення -12.5 є рівним 12.5\nАбсолютне значення 12.5 є рівним 12.5\n",
          "output_type": "stream"
        }
      ],
      "execution_count": 2
    },
    {
      "cell_type": "markdown",
      "source": "#### Цикли",
      "metadata": {}
    },
    {
      "cell_type": "code",
      "source": "# Цикл for для виведення кожного елемента списку\nfruits = [\"яблуко\", \"груша\", \"апельсин\"]\nfor fruit in fruits:\n    print(f\"Смачного {fruit}!\")\n",
      "metadata": {
        "trusted": true
      },
      "outputs": [
        {
          "name": "stdout",
          "text": "Смачного яблуко!\nСмачного груша!\nСмачного апельсин!\n",
          "output_type": "stream"
        }
      ],
      "execution_count": 3
    },
    {
      "cell_type": "markdown",
      "source": "#### Розгалуження",
      "metadata": {}
    },
    {
      "cell_type": "code",
      "source": "# Розгалуження if-else\nis_sunny = True\nweather = \"гарна\" if is_sunny else \"погана\"\nprint(f\"Погода сьогодні {weather}.\")\n",
      "metadata": {
        "trusted": true
      },
      "outputs": [
        {
          "name": "stdout",
          "text": "Погода сьогодні гарна.\n",
          "output_type": "stream"
        }
      ],
      "execution_count": 5
    },
    {
      "cell_type": "markdown",
      "source": "#### Конструкція try->except->finally:",
      "metadata": {}
    },
    {
      "cell_type": "code",
      "source": "# Приклад з помилкою (ділення на нуль)\ndivisor = 0\ntry:\n    result = 10 / divisor\nexcept ZeroDivisionError as e:\n    print(f\"Помилка: {e}\")\nfinally:\n    print(\"Все одно виконається цей блок!\")\n",
      "metadata": {
        "trusted": true
      },
      "outputs": [
        {
          "name": "stdout",
          "text": "Помилка: division by zero\nВсе одно виконається цей блок!\n",
          "output_type": "stream"
        }
      ],
      "execution_count": 6
    },
    {
      "cell_type": "markdown",
      "source": "#### Лямбда",
      "metadata": {}
    },
    {
      "cell_type": "code",
      "source": "# Лямбда-вираз для обчислення квадрату числа\nsquare = lambda x: x ** 2\nprint(\"Квадрат числа 5 дорівнює\", square(5))\n",
      "metadata": {
        "trusted": true
      },
      "outputs": [
        {
          "name": "stdout",
          "text": "Квадрат числа 5 дорівнює 25\n",
          "output_type": "stream"
        }
      ],
      "execution_count": 7
    },
    {
      "cell_type": "markdown",
      "source": "### Основи Python від ChatGPT",
      "metadata": {}
    },
    {
      "cell_type": "code",
      "source": "# Вивід тексту на екран\nprint(\"Привіт, світ!\")\n\n# Змінні та їхні типи\nзмінна_ціле = 42  # Ціле число\nзмінна_дробове = 3.14  # Дробове число\nзмінна_рядок = \"Програмуємо на Python\"  # Рядок\n\n# Операції\nсума = змінна_ціле + змінна_дробове\nрізниця = змінна_ціле - змінна_дробове\nпродукт = змінна_ціле * змінна_дробове\nчастка = змінна_ціле / змінна_дробове\n\n# Умови\nif змінна_ціле > 0:\n    print(\"Змінна ціле додатня\")\nelif змінна_ціле == 0:\n    print(\"Змінна ціле дорівнює нулю\")\nelse:\n    print(\"Змінна ціле від'ємна\")\n\n# Цикли\nfor i in range(5):\n    print(\"Ітерація номер\", i)\n\n# Функції\ndef додавання(a, b):\n    return a + b\n\nрезультат_додавання = додавання(2, 3)\nprint(\"Результат додавання:\", результат_додавання)\n",
      "metadata": {
        "trusted": true
      },
      "outputs": [
        {
          "name": "stdout",
          "text": "Привіт, світ!\nЗмінна ціле додатня\nІтерація номер 0\nІтерація номер 1\nІтерація номер 2\nІтерація номер 3\nІтерація номер 4\nРезультат додавання: 5\n",
          "output_type": "stream"
        }
      ],
      "execution_count": 8
    },
    {
      "cell_type": "code",
      "source": "",
      "metadata": {
        "trusted": true
      },
      "outputs": [],
      "execution_count": null
    }
  ]
}