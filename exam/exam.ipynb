{
  "metadata": {
    "kernelspec": {
      "name": "python",
      "display_name": "Python (Pyodide)",
      "language": "python"
    },
    "language_info": {
      "codemirror_mode": {
        "name": "python",
        "version": 3
      },
      "file_extension": ".py",
      "mimetype": "text/x-python",
      "name": "python",
      "nbconvert_exporter": "python",
      "pygments_lexer": "ipython3",
      "version": "3.8"
    }
  },
  "nbformat_minor": 4,
  "nbformat": 4,
  "cells": [
    {
      "cell_type": "markdown",
      "source": "### Завдання",
      "metadata": {}
    },
    {
      "cell_type": "code",
      "source": "class MyClass:\n    def __init__(self, name):\n        self._name = name\n\n    @property\n    def property_name(self):\n        return f\"Властивість класу з ім'ям: {self._name}\"\n\ninstance = MyClass(\"Мій клас\")\nresult = instance.property_name\nprint(result)\n",
      "metadata": {
        "trusted": true
      },
      "outputs": [
        {
          "name": "stdout",
          "text": "Властивість класу з ім'ям: Мій клас\n",
          "output_type": "stream"
        }
      ],
      "execution_count": 2
    }
  ]
}